{
 "cells": [
  {
   "cell_type": "markdown",
   "id": "e33eda06-7d7d-445e-8cd0-60b4d4b13afb",
   "metadata": {},
   "source": [
    "# Practical Exam: House sales\n",
    "\n",
    "RealAgents es una agencia inmobiliaria especializada en la venta de casas.\n",
    "\n",
    "RealAgents vende una variedad de tipos de casas en un área metropolitana.\n",
    "\n",
    "Algunas casas se venden lentamente y a veces es necesario bajar el precio para encontrar un comprador.\n",
    "\n",
    "Para seguir siendo competitivo, RealAgents desea optimizar los precios de venta de las casas que intenta vender.\n",
    "\n",
    "Quieren hacerlo prediciendo el precio de venta de una casa dadas sus características.\n",
    "\n",
    "Si pueden predecir el precio de venta con antelación, pueden reducir el tiempo de venta.\n",
    "\n",
    "## Data\n",
    "\n",
    "El conjunto de datos contiene registros de casas vendidas anteriormente en el área.\n",
    "\n",
    "| Column Name | Criteria                                                |\n",
    "|-------------|---------------------------------------------------------|\n",
    "| house_id    | Nominal. </br> Unique identifier for houses. </br>Missing values not possible. |\n",
    "| city        | Nominal. </br>The city in which the house is located. One of 'Silvertown', 'Riverford', 'Teasdale' and 'Poppleton'. </br>Replace missing values with \"Unknown\". |\n",
    "| sale_price  | Discrete. </br>The sale price of the house in whole dollars. Values can be any positive number greater than or equal to zero.</br>Remove missing entries. |\n",
    "| sale_date   | Discrete. </br>The date of the last sale of the house. </br>Replace missing values with 2023-01-01. |\n",
    "| months_listed  | Continuous. </br>The number of months the house was listed on the market prior to its last sale, rounded to one decimal place. </br>Replace missing values with mean number of months listed, to one decimal place. |\n",
    "| bedrooms    | Discrete. </br>The number of bedrooms in the house. Any positive values greater than or equal to zero. </br>Replace missing values with the mean number of bedrooms, rounded to the nearest integer. |\n",
    "| house_type   | Ordinal. </br>One of \"Terraced\" (two shared walls), \"Semi-detached\" (one shared wall), or \"Detached\" (no shared walls). </br>Replace missing values with the most common house type. |\n",
    "| area      | Continuous. </br>The area of the house in square meters, rounded to one decimal place. </br>Replace missing values with the mean, to one decimal place. |\n"
   ]
  },
  {
   "cell_type": "code",
   "execution_count": null,
   "id": "b2cb73bf-bb81-4664-b3eb-c35f6914a652",
   "metadata": {
    "executionCancelledAt": null,
    "executionTime": 18,
    "lastExecutedAt": 1761230095868,
    "lastExecutedByKernel": "1503dd54-d655-41e9-8650-c2f231ae1000",
    "lastScheduledRunId": null,
    "lastSuccessfullyExecutedCode": "# Use this cell to write your code for Task 1\nimport numpy as np \nimport pandas as pd \nfrom sklearn.preprocessing import StandardScaler\nfrom sklearn.model_selection import cross_val_score\nfrom sklearn.linear_model import LinearRegression\nhouse_sales = pd.read_csv('house_sales.csv')\nmissing_city = house_sales['city'].replace('--', np.nan).isna().sum()\nprint(missing_city)",
    "outputsMetadata": {
     "0": {
      "height": 38,
      "type": "stream"
     }
    }
   },
   "outputs": [
    {
     "name": "stdout",
     "output_type": "stream",
     "text": [
      "73\n"
     ]
    }
   ],
   "source": [
    "# Use this cell to write your code for Task 1\n",
    "import numpy as np \n",
    "import pandas as pd \n",
    "from sklearn.preprocessing import StandardScaler\n",
    "from sklearn.model_selection import cross_val_score\n",
    "from sklearn.linear_model import LinearRegression\n",
    "house_sales = pd.read_csv('house_sales.csv')\n",
    "missing_city = house_sales['city'].replace('--', np.nan).isna().sum()\n",
    "print(missing_city)"
   ]
  },
  {
   "cell_type": "markdown",
   "id": "5045c039-b353-46ba-87b9-af63aaa4abf3",
   "metadata": {},
   "source": [
    "# Task 2 \n",
    "\n",
    "Antes de instalar cualquier modelo, deberá asegurarse de que los datos estén limpios. \n",
    "\n",
    "La siguiente tabla muestra cómo deberían verse los datos.\n",
    "\n",
    "Cree una versión limpia del marco de datos. \n",
    "\n",
    " - Debes comenzar con los datos del archivo \"house_sales.csv\". \n",
    "\n",
    " - Su salida debe ser un marco de datos llamado `clean_data`. \n",
    "\n",
    " - Todos los nombres y valores de las columnas deben coincidir con la tabla siguiente.\n",
    "\n",
    "\n",
    "| Column Name | Criteria                                                |\n",
    "|-------------|---------------------------------------------------------|\n",
    "| house_id    | Nominal. </br> Unique identifier for houses. </br>Missing values not possible. |\n",
    "| city        | Nominal. </br>The city in which the house is located. One of 'Silvertown', 'Riverford', 'Teasdale' and 'Poppleton' </br>Replace missing values with \"Unknown\". |\n",
    "| sale_price  | Discrete. </br>The sale price of the house in whole dollars. Values can be any positive number greater than or equal to zero.</br>Remove missing entries. |\n",
    "| sale_date   | Discrete. </br>The date of the last sale of the house. </br>Replace missing values with 2023-01-01. |\n",
    "| months_listed  | Continuous. </br>The number of months the house was listed on the market prior to its last sale, rounded to one decimal place. </br>Replace missing values with mean number of months listed, to one decimal place. |\n",
    "| bedrooms    | Discrete. </br>The number of bedrooms in the house. Any positive values greater than or equal to zero. </br>Replace missing values with the mean number of bedrooms, rounded to the nearest integer. |\n",
    "| house_type   | Ordinal. </br>One of \"Terraced\", \"Semi-detached\", or \"Detached\". </br>Replace missing values with the most common house type. |\n",
    "| area      | Continuous. </br>The area of the house in square meters, rounded to one decimal place. </br>Replace missing values with the mean, to one decimal place. |"
   ]
  },
  {
   "cell_type": "code",
   "execution_count": 19,
   "id": "dc9c2344-a350-461c-b5db-40768b2165a5",
   "metadata": {
    "executionCancelledAt": null,
    "executionTime": 57,
    "lastExecutedAt": 1761230095925,
    "lastExecutedByKernel": "1503dd54-d655-41e9-8650-c2f231ae1000",
    "lastScheduledRunId": null,
    "lastSuccessfullyExecutedCode": "# Use this cell to write your code for Task 2}\n# Limpieza de datos \ndef clean_dataset(house_sales):\n    house_sales_copy = house_sales.copy()\n    \n    # Columna categórica: city\n    house_sales_copy['city'] = house_sales_copy['city'].replace('--', np.nan)\n    house_sales_copy['city'] = house_sales_copy['city'].fillna('Unknown')\n    \n    # Columna numérica objetivo\n    house_sales_copy = house_sales_copy[house_sales_copy['sale_price'].notna()]\n    house_sales_copy = house_sales_copy[house_sales_copy['sale_price'] >= 0]\n    \n    # Fechas\n    house_sales_copy['sale_date'] = pd.to_datetime(\n        house_sales_copy['sale_date'], errors='coerce'\n    ).fillna(pd.Timestamp('2023-01-01'))\n    \n    # Bedrooms\n    mean_bedrooms = house_sales_copy.loc[\n        house_sales_copy['bedrooms'] >= 0, 'bedrooms'\n    ].dropna().mean()\n    house_sales_copy['bedrooms'] = house_sales_copy['bedrooms'].fillna(round(mean_bedrooms))\n    \n    # Months listed\n    house_sales_copy['months_listed'] = house_sales_copy['months_listed'].round(1)\n    mean_months = house_sales_copy['months_listed'].mean()\n    house_sales_copy['months_listed'] = house_sales_copy['months_listed'].fillna(round(mean_months, 1))\n    \n    # Area\n    house_sales_copy['area'] = (\n    pd.to_numeric(house_sales_copy['area'].astype(str).str.replace(' sq.m.', '', regex=False), errors='coerce')\n    .round(1))\n    house_sales_copy['area'].fillna(house_sales_copy['area'].mean().round(1), inplace=True)\n\n    # House type (ordinal)\n    house_sales_copy['house_type'] = house_sales_copy['house_type'].replace({\n        'Det.': 'Detached', \n        'Semi': 'Semi-detached', \n        'Terr.': 'Terraced'\n    })\n    house_sales_copy['house_type'] = house_sales_copy['house_type'].fillna(\n        house_sales_copy['house_type'].mode()[0]\n    )\n    \n    return house_sales_copy\n\n\nclean_data = clean_dataset(house_sales)\nprint(clean_data.dtypes)\nprint(clean_data.isna().sum())\n",
    "outputsMetadata": {
     "0": {
      "height": 395,
      "type": "stream"
     }
    }
   },
   "outputs": [
    {
     "name": "stdout",
     "output_type": "stream",
     "text": [
      "house_id                  int64\n",
      "city                     object\n",
      "sale_price                int64\n",
      "sale_date        datetime64[ns]\n",
      "months_listed           float64\n",
      "bedrooms                  int64\n",
      "house_type               object\n",
      "area                    float64\n",
      "dtype: object\n",
      "house_id         0\n",
      "city             0\n",
      "sale_price       0\n",
      "sale_date        0\n",
      "months_listed    0\n",
      "bedrooms         0\n",
      "house_type       0\n",
      "area             0\n",
      "dtype: int64\n"
     ]
    }
   ],
   "source": [
    "# Use this cell to write your code for Task 2}\n",
    "# Limpieza de datos \n",
    "def clean_dataset(house_sales):\n",
    "    house_sales_copy = house_sales.copy()\n",
    "    \n",
    "    # Columna categórica: city\n",
    "    house_sales_copy['city'] = house_sales_copy['city'].replace('--', np.nan)\n",
    "    house_sales_copy['city'] = house_sales_copy['city'].fillna('Unknown')\n",
    "    \n",
    "    # Columna numérica objetivo\n",
    "    house_sales_copy = house_sales_copy[house_sales_copy['sale_price'].notna()]\n",
    "    house_sales_copy = house_sales_copy[house_sales_copy['sale_price'] >= 0]\n",
    "    \n",
    "    # Fechas\n",
    "    house_sales_copy['sale_date'] = pd.to_datetime(\n",
    "        house_sales_copy['sale_date'], errors='coerce'\n",
    "    ).fillna(pd.Timestamp('2023-01-01'))\n",
    "    \n",
    "    # Bedrooms\n",
    "    mean_bedrooms = house_sales_copy.loc[\n",
    "        house_sales_copy['bedrooms'] >= 0, 'bedrooms'\n",
    "    ].dropna().mean()\n",
    "    house_sales_copy['bedrooms'] = house_sales_copy['bedrooms'].fillna(round(mean_bedrooms))\n",
    "    \n",
    "    # Months listed\n",
    "    house_sales_copy['months_listed'] = house_sales_copy['months_listed'].round(1)\n",
    "    mean_months = house_sales_copy['months_listed'].mean()\n",
    "    house_sales_copy['months_listed'] = house_sales_copy['months_listed'].fillna(round(mean_months, 1))\n",
    "    \n",
    "    # Area\n",
    "    house_sales_copy['area'] = (\n",
    "    pd.to_numeric(house_sales_copy['area'].astype(str).str.replace(' sq.m.', '', regex=False), errors='coerce')\n",
    "    .round(1))\n",
    "    house_sales_copy['area'].fillna(house_sales_copy['area'].mean().round(1), inplace=True)\n",
    "\n",
    "    # House type (ordinal)\n",
    "    house_sales_copy['house_type'] = house_sales_copy['house_type'].replace({\n",
    "        'Det.': 'Detached', \n",
    "        'Semi': 'Semi-detached', \n",
    "        'Terr.': 'Terraced'\n",
    "    })\n",
    "    house_sales_copy['house_type'] = house_sales_copy['house_type'].fillna(\n",
    "        house_sales_copy['house_type'].mode()[0]\n",
    "    )\n",
    "    \n",
    "    return house_sales_copy\n",
    "\n",
    "\n",
    "clean_data = clean_dataset(house_sales)\n",
    "print(clean_data.dtypes)\n",
    "print(clean_data.isna().sum())\n"
   ]
  },
  {
   "cell_type": "markdown",
   "id": "ff3c2889-66f3-4a6b-acac-2b12626e3244",
   "metadata": {},
   "source": [
    "# Task 3 \n",
    "\n",
    "El equipo de RealAgents les ha comentado que siempre han creído que el número de habitaciones es el principal factor determinante del precio de la vivienda.\n",
    "\n",
    "Se ha elaborado una tabla que muestra la diferencia en el precio de venta promedio por número de habitaciones, junto con la varianza, para investigar esta cuestión.\n",
    "\n",
    " - Debes comenzar con los datos del archivo 'house_sales.csv'.\n",
    "\n",
    " - Su salida debe ser un marco de datos llamado `price_by_rooms`.\n",
    "\n",
    " - Debe incluir las tres columnas `bedrooms`, `avg_price`, `var_price`.\n",
    "\n",
    " - Sus respuestas deben redondearse a 1 decimal.   "
   ]
  },
  {
   "cell_type": "code",
   "execution_count": 20,
   "id": "ea512a1c-e512-4f2e-8d78-323e51d01407",
   "metadata": {
    "executionCancelledAt": null,
    "executionTime": 52,
    "lastExecutedAt": 1761230095977,
    "lastExecutedByKernel": "1503dd54-d655-41e9-8650-c2f231ae1000",
    "lastScheduledRunId": null,
    "lastSuccessfullyExecutedCode": "# Use this cell to write your code for Task 3\nhouse_sales = pd.read_csv('house_sales.csv')\ncleaned_df = clean_dataset(house_sales.copy())\nprint(cleaned_df.isna().sum())\nprice_by_rooms = house_sales.groupby('bedrooms')['sale_price'].agg(['mean', 'var']).rename(columns={'mean':'avg_price', 'var':'var_price'}).round(1).reset_index()\nprint(price_by_rooms)",
    "outputsMetadata": {
     "0": {
      "height": 332,
      "type": "stream"
     }
    }
   },
   "outputs": [
    {
     "name": "stdout",
     "output_type": "stream",
     "text": [
      "house_id         0\n",
      "city             0\n",
      "sale_price       0\n",
      "sale_date        0\n",
      "months_listed    0\n",
      "bedrooms         0\n",
      "house_type       0\n",
      "area             0\n",
      "dtype: int64\n",
      "   bedrooms  avg_price     var_price\n",
      "0         2    67076.4  5.652896e+08\n",
      "1         3   154665.1  2.378289e+09\n",
      "2         4   234704.6  1.725211e+09\n",
      "3         5   301515.9  2.484328e+09\n",
      "4         6   375741.3  3.924432e+09\n"
     ]
    }
   ],
   "source": [
    "# Use this cell to write your code for Task 3\n",
    "house_sales = pd.read_csv('house_sales.csv')\n",
    "cleaned_df = clean_dataset(house_sales.copy())\n",
    "print(cleaned_df.isna().sum())\n",
    "price_by_rooms = house_sales.groupby('bedrooms')['sale_price'].agg(['mean', 'var']).rename(columns={'mean':'avg_price', 'var':'var_price'}).round(1).reset_index()\n",
    "print(price_by_rooms)"
   ]
  },
  {
   "cell_type": "markdown",
   "id": "ac7038d1-7a8f-4d97-aef1-36f3f1227374",
   "metadata": {},
   "source": [
    "# Task 4\n",
    "\n",
    "Ajuste un modelo base para predecir el precio de venta de una casa.\n",
    "\n",
    "1. Ajuste su modelo utilizando los datos de \"train.csv\"\n",
    "\n",
    "2. Utilice \"validation.csv\" para predecir nuevos valores basados ​​en su modelo. Debe devolver un marco de datos llamado `base_result`, que incluya `house_id` y `price`. La columna de precio debe contener los valores predichos."
   ]
  },
  {
   "cell_type": "code",
   "execution_count": 21,
   "id": "96496c59-fdd4-4683-9884-551ad93b788f",
   "metadata": {
    "executionCancelledAt": null,
    "executionTime": 1318,
    "lastExecutedAt": 1761230097295,
    "lastExecutedByKernel": "1503dd54-d655-41e9-8650-c2f231ae1000",
    "lastScheduledRunId": null,
    "lastSuccessfullyExecutedCode": "# Use this cell to write your code for Task 4\nimport pandas as pd\nfrom sklearn.linear_model import LinearRegression, Ridge\ntrain_data = pd.read_csv(\"train.csv\")\nval_data   = pd.read_csv(\"validation.csv\")\n\n# Dummies\ntrain_dummies = pd.get_dummies(train_data, drop_first=True)\nval_dummies   = pd.get_dummies(val_data, drop_first=True)\n\n# Alinear columnas\ntrain_dummies, val_dummies = train_dummies.align(val_dummies, join=\"left\", axis=1, fill_value=0)\n\n# Features y target\nX_train = train_dummies.drop(\"sale_price\", axis=1).values\ny_train = train_dummies[\"sale_price\"].values\nX_val   = val_dummies.drop(\"sale_price\", axis=1, errors=\"ignore\").values\n\n# Entrenar modelo baseline\nreg = LinearRegression()\nreg.fit(X_train, y_train)\ny_pred = reg.predict(X_val)\n\n# Resultado baseline\nbase_result = pd.DataFrame({\n    \"house_id\": val_data[\"house_id\"],\n    \"price\": y_pred\n})\nX_train",
    "outputsMetadata": {
     "0": {
      "height": 311,
      "type": "stream"
     }
    }
   },
   "outputs": [
    {
     "data": {
      "text/plain": [
       "array([[1.634561e+06, 7.000000e+00, 6.000000e+00, ..., 0.000000e+00,\n",
       "        0.000000e+00, 0.000000e+00],\n",
       "       [1.009770e+06, 8.100000e+00, 6.000000e+00, ..., 0.000000e+00,\n",
       "        0.000000e+00, 0.000000e+00],\n",
       "       [1.946667e+06, 5.400000e+00, 5.000000e+00, ..., 0.000000e+00,\n",
       "        0.000000e+00, 0.000000e+00],\n",
       "       ...,\n",
       "       [1.919273e+06, 9.100000e+00, 5.000000e+00, ..., 0.000000e+00,\n",
       "        0.000000e+00, 0.000000e+00],\n",
       "       [1.512003e+06, 6.100000e+00, 4.000000e+00, ..., 0.000000e+00,\n",
       "        0.000000e+00, 0.000000e+00],\n",
       "       [1.452168e+06, 7.600000e+00, 5.000000e+00, ..., 0.000000e+00,\n",
       "        0.000000e+00, 0.000000e+00]])"
      ]
     },
     "execution_count": 21,
     "metadata": {},
     "output_type": "execute_result"
    }
   ],
   "source": [
    "# Use this cell to write your code for Task 4\n",
    "import pandas as pd\n",
    "from sklearn.linear_model import LinearRegression, Ridge\n",
    "train_data = pd.read_csv(\"train.csv\")\n",
    "val_data   = pd.read_csv(\"validation.csv\")\n",
    "\n",
    "# Dummies\n",
    "train_dummies = pd.get_dummies(train_data, drop_first=True)\n",
    "val_dummies   = pd.get_dummies(val_data, drop_first=True)\n",
    "\n",
    "# Alinear columnas\n",
    "train_dummies, val_dummies = train_dummies.align(val_dummies, join=\"left\", axis=1, fill_value=0)\n",
    "\n",
    "# Features y target\n",
    "X_train = train_dummies.drop(\"sale_price\", axis=1).values\n",
    "y_train = train_dummies[\"sale_price\"].values\n",
    "X_val   = val_dummies.drop(\"sale_price\", axis=1, errors=\"ignore\").values\n",
    "\n",
    "# Entrenar modelo baseline\n",
    "reg = LinearRegression()\n",
    "reg.fit(X_train, y_train)\n",
    "y_pred = reg.predict(X_val)\n",
    "\n",
    "# Resultado baseline\n",
    "base_result = pd.DataFrame({\n",
    "    \"house_id\": val_data[\"house_id\"],\n",
    "    \"price\": y_pred\n",
    "})\n",
    "X_train"
   ]
  },
  {
   "cell_type": "markdown",
   "id": "7c674c01-d6de-488d-b2e0-bc3bbf87def6",
   "metadata": {},
   "source": [
    "# Task 5\n",
    "\n",
    "Ajuste un modelo de comparación para predecir el precio de venta de una casa.\n",
    "\n",
    "1. Ajuste su modelo utilizando los datos de \"train.csv\" </br></br>\n",
    "\n",
    "2. Utilice \"validation.csv\" para predecir nuevos valores basados ​​en su modelo. Debe devolver un dataframe llamado `compare_result`, que incluya `house_id` y `price`. La columna de precio debe contener los valores predichos."
   ]
  },
  {
   "cell_type": "code",
   "execution_count": 22,
   "id": "538ffb3d-4008-49b6-9876-7831e025f5a4",
   "metadata": {
    "executionCancelledAt": null,
    "executionTime": 392,
    "lastExecutedAt": 1761230097687,
    "lastExecutedByKernel": "1503dd54-d655-41e9-8650-c2f231ae1000",
    "lastScheduledRunId": null,
    "lastSuccessfullyExecutedCode": "# Use this cell to write your code for Task 5\nridge = Ridge(alpha=1000) \nridge.fit(X_train, y_train) \ny_pred_ridge = ridge.predict(X_val) \ncompare_result = pd.DataFrame({ \"house_id\": val_data[\"house_id\"], \"price\":\n                                y_pred_ridge}) \nprint(compare_result)",
    "outputsMetadata": {
     "0": {
      "height": 311,
      "type": "stream"
     }
    }
   },
   "outputs": [
    {
     "name": "stdout",
     "output_type": "stream",
     "text": [
      "     house_id          price\n",
      "0     1331375  125096.521557\n",
      "1     1630115  263759.407449\n",
      "2     1645745  383222.562414\n",
      "3     1336775  120296.254258\n",
      "4     1888274  254263.290262\n",
      "..        ...            ...\n",
      "295   1986255  344159.311895\n",
      "296   1896276  363680.414200\n",
      "297   1758223  238675.015131\n",
      "298   1752010  177203.142992\n",
      "299   1651404  359672.536308\n",
      "\n",
      "[300 rows x 2 columns]\n"
     ]
    }
   ],
   "source": [
    "# Use this cell to write your code for Task 5\n",
    "ridge = Ridge(alpha=1000) \n",
    "ridge.fit(X_train, y_train) \n",
    "y_pred_ridge = ridge.predict(X_val) \n",
    "compare_result = pd.DataFrame({ \"house_id\": val_data[\"house_id\"], \"price\":\n",
    "                                y_pred_ridge}) \n",
    "print(compare_result)"
   ]
  },
  {
   "cell_type": "markdown",
   "id": "cbdea5a3-5e25-4724-8902-61fc9c0fafaa",
   "metadata": {},
   "source": [
    "# Analisis complementario\n",
    "Analizar qué características influyen más en el precio de venta predicho por el modelo Ridge."
   ]
  },
  {
   "cell_type": "code",
   "execution_count": 23,
   "id": "408dab0b-2c91-477c-b977-85cbb5b14339",
   "metadata": {
    "executionCancelledAt": null,
    "executionTime": null,
    "lastExecutedAt": null,
    "lastExecutedByKernel": null,
    "lastScheduledRunId": null,
    "lastSuccessfullyExecutedCode": null,
    "outputsMetadata": {
     "0": {
      "height": 290,
      "type": "stream"
     }
    }
   },
   "outputs": [
    {
     "name": "stdout",
     "output_type": "stream",
     "text": [
      "Top 10 variables que más impactan en el precio de venta:\n",
      "\n",
      "city_Teasdale               10086.110359\n",
      "city_Riverford              -6933.533688\n",
      "house_type_Terraced         -3516.640831\n",
      "city_Silvertown              3393.866249\n",
      "area                          759.689206\n",
      "house_type_Semi-detached     -501.175897\n",
      "sale_date_2020-04-14         -211.907720\n",
      "sale_date_2020-08-16         -154.865178\n",
      "sale_date_2022-01-17         -146.260670\n",
      "sale_date_2020-09-21         -143.405649\n",
      "dtype: float64\n"
     ]
    }
   ],
   "source": [
    "# Task 5 — Importancia de variables\n",
    "import pandas as pd\n",
    "import numpy as np\n",
    "\n",
    "# Calcular la importancia de cada variable en el modelo Ridge\n",
    "importance = pd.Series(\n",
    "    ridge.coef_,\n",
    "    index=train_dummies.drop(\"sale_price\", axis=1).columns\n",
    ").sort_values(key=abs, ascending=False)\n",
    "\n",
    "# Mostrar las 10 variables más influyentes\n",
    "print(\"Top 10 variables que más impactan en el precio de venta:\\n\")\n",
    "print(importance.head(10))"
   ]
  }
 ],
 "metadata": {
  "editor": "DataCamp Workspace",
  "kernelspec": {
   "display_name": "Python 3 (ipykernel)",
   "language": "python",
   "name": "python3"
  },
  "language_info": {
   "codemirror_mode": {
    "name": "ipython",
    "version": 3
   },
   "file_extension": ".py",
   "mimetype": "text/x-python",
   "name": "python",
   "nbconvert_exporter": "python",
   "pygments_lexer": "ipython3",
   "version": "3.8.10"
  }
 },
 "nbformat": 4,
 "nbformat_minor": 5
}
